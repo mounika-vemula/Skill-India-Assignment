{
 "cells": [
  {
   "cell_type": "code",
   "execution_count": 26,
   "id": "678fd124",
   "metadata": {},
   "outputs": [],
   "source": [
    "import json"
   ]
  },
  {
   "cell_type": "code",
   "execution_count": 27,
   "id": "722e4cba",
   "metadata": {},
   "outputs": [],
   "source": [
    "fd = open(\"record.json\",\"r\")\n",
    "r = fd.read()\n",
    "fd.close()\n",
    "\n",
    "records = json.loads(r)"
   ]
  },
  {
   "cell_type": "code",
   "execution_count": 28,
   "id": "e063c955",
   "metadata": {},
   "outputs": [
    {
     "data": {
      "text/plain": [
       "{'1001': {'name': 'Choco Cake', 'pr': 100, 'qn': 34},\n",
       " '1002': {'name': 'Milk Cake', 'pr': 800, 'qn': 100},\n",
       " '1003': {'name': 'Drink', 'pr': 85, 'qn': 200},\n",
       " '1004': {'name': 'Candy', 'pr': 5, 'qn': 1000},\n",
       " '1005': {'name': 'Pen', 'pr': 10, 'qn': 300},\n",
       " '1006': {'name': 'Pencil', 'pr': 15, 'qn': 500},\n",
       " '1007': {'name': 'Soap', 'pr': 45, 'qn': 295},\n",
       " '1008': {'name': 'Maggie', 'pr': 12, 'qn': 600},\n",
       " '1009': {'name': 'Biscuits', 'pr': 20, 'qn': 750},\n",
       " '1010': {'name': 'Eraser', 'pr': 5, 'qn': 400},\n",
       " '1011': {'name': 'Shampoo', 'pr': 3, 'qn': 700},\n",
       " '1012': {'name': 'Lolipop', 'pr': 2, 'qn': 800},\n",
       " '1013': {'name': 'Surf', 'pr': 5, 'qn': 600},\n",
       " '1014': {'name': 'Key board', 'pr': 2000, 'qn': 30},\n",
       " '1015': {'name': 'Earbuds', 'pr': 1500, 'qn': 50},\n",
       " '1016': {'name': 'Headset', 'pr': 1799, 'qn': 25},\n",
       " '1017': {'name': 'Green Tea', 'pr': 330, 'qn': 40},\n",
       " '1018': {'name': 'Hair oil', 'pr': 55, 'qn': 50},\n",
       " '1019': {'name': 'Brush', 'pr': 20, 'qn': 600},\n",
       " '1020': {'name': 'Face wash', 'pr': 70, 'qn': 150},\n",
       " '1021': {'name': 'Room spray', 'pr': 120, 'qn': 250},\n",
       " '1022': {'name': 'Jam', 'pr': 30, 'qn': 500},\n",
       " '1023': {'name': 'Tomato ketchup', 'pr': 12, 'qn': 550},\n",
       " '1024': {'name': 'Rice', 'pr': 110, 'qn': 400},\n",
       " '1025': {'name': 'Boost', 'pr': 5, 'qn': 1000},\n",
       " '1026': {'name': 'BRU', 'pr': 5, 'qn': 850},\n",
       " '1027': {'name': 'Notebook', 'pr': 45, 'qn': 200},\n",
       " '1028': {'name': 'Mouse', 'pr': 1500, 'qn': 25},\n",
       " '1029': {'name': 'Case', 'pr': 470, 'qn': 50},\n",
       " '1030': {'name': 'Scale', 'pr': 10, 'qn': 500}}"
      ]
     },
     "execution_count": 28,
     "metadata": {},
     "output_type": "execute_result"
    }
   ],
   "source": [
    "records"
   ]
  },
  {
   "cell_type": "code",
   "execution_count": 29,
   "id": "8c09a462",
   "metadata": {},
   "outputs": [
    {
     "name": "stdout",
     "output_type": "stream",
     "text": [
      "Enter the product ID: 1030\n",
      "Enter quantity: 2\n",
      "Product:  Scale\n",
      "Price:  10\n",
      "Billing Amount:  20\n"
     ]
    }
   ],
   "source": [
    "ui_prod = str(input(\"Enter the product ID: \"))\n",
    "ui_quant = int(input(\"Enter quantity: \"))\n",
    "\n",
    "print(\"Product: \",records[ui_prod]['name'])\n",
    "print(\"Price: \",records[ui_prod]['pr'])\n",
    "print(\"Billing Amount: \", records[ui_prod]['pr']*ui_quant)\n",
    "\n",
    "records[ui_prod]['qn'] = records[ui_prod]['qn'] - ui_quant"
   ]
  },
  {
   "cell_type": "code",
   "execution_count": 36,
   "id": "dd3c19ac",
   "metadata": {},
   "outputs": [
    {
     "name": "stdout",
     "output_type": "stream",
     "text": [
      "Enter the product ID: 1015\n",
      "Enter quantity: 1\n",
      "Product:  Earbuds\n",
      "Price:  1500\n",
      "Billing Amount:  1500\n"
     ]
    }
   ],
   "source": [
    "ui_prod = str(input(\"Enter the product ID: \"))\n",
    "ui_quant = int(input(\"Enter quantity: \"))\n",
    "\n",
    "print(\"Product: \",records[ui_prod]['name'])\n",
    "print(\"Price: \",records[ui_prod]['pr'])\n",
    "print(\"Billing Amount: \", records[ui_prod]['pr']*ui_quant)\n",
    "\n",
    "records[ui_prod]['qn'] = records[ui_prod]['qn'] - ui_quant"
   ]
  },
  {
   "cell_type": "code",
   "execution_count": 37,
   "id": "54d033fb",
   "metadata": {},
   "outputs": [
    {
     "name": "stdout",
     "output_type": "stream",
     "text": [
      "Enter the product ID: 1019\n",
      "Enter quantity: 5\n",
      "Product:  Brush\n",
      "Price:  20\n",
      "Billing Amount:  100\n"
     ]
    }
   ],
   "source": [
    "ui_prod = str(input(\"Enter the product ID: \"))\n",
    "ui_quant = int(input(\"Enter quantity: \"))\n",
    "\n",
    "print(\"Product: \",records[ui_prod]['name'])\n",
    "print(\"Price: \",records[ui_prod]['pr'])\n",
    "print(\"Billing Amount: \", records[ui_prod]['pr']*ui_quant)\n",
    "\n",
    "records[ui_prod]['qn'] = records[ui_prod]['qn'] - ui_quant"
   ]
  },
  {
   "cell_type": "code",
   "execution_count": 38,
   "id": "a0ea53c2",
   "metadata": {},
   "outputs": [
    {
     "name": "stdout",
     "output_type": "stream",
     "text": [
      "Enter the product ID: 1009\n",
      "Enter quantity: 10\n",
      "Product:  Biscuits\n",
      "Price:  20\n",
      "Billing Amount:  200\n"
     ]
    }
   ],
   "source": [
    "ui_prod = str(input(\"Enter the product ID: \"))\n",
    "ui_quant = int(input(\"Enter quantity: \"))\n",
    "\n",
    "print(\"Product: \",records[ui_prod]['name'])\n",
    "print(\"Price: \",records[ui_prod]['pr'])\n",
    "print(\"Billing Amount: \", records[ui_prod]['pr']*ui_quant)\n",
    "\n",
    "records[ui_prod]['qn'] = records[ui_prod]['qn'] - ui_quant"
   ]
  },
  {
   "cell_type": "code",
   "execution_count": 39,
   "id": "81dde14c",
   "metadata": {},
   "outputs": [
    {
     "name": "stdout",
     "output_type": "stream",
     "text": [
      "Enter the product ID: 1025\n",
      "Enter quantity: 25\n",
      "Product:  Boost\n",
      "Price:  5\n",
      "Billing Amount:  125\n"
     ]
    }
   ],
   "source": [
    "ui_prod = str(input(\"Enter the product ID: \"))\n",
    "ui_quant = int(input(\"Enter quantity: \"))\n",
    "\n",
    "print(\"Product: \",records[ui_prod]['name'])\n",
    "print(\"Price: \",records[ui_prod]['pr'])\n",
    "print(\"Billing Amount: \", records[ui_prod]['pr']*ui_quant)\n",
    "\n",
    "records[ui_prod]['qn'] = records[ui_prod]['qn'] - ui_quant"
   ]
  },
  {
   "cell_type": "code",
   "execution_count": 40,
   "id": "ff5429d2",
   "metadata": {},
   "outputs": [
    {
     "name": "stdout",
     "output_type": "stream",
     "text": [
      "Enter the product ID: 1001\n",
      "Enter quantity: 5\n",
      "Product:  Choco Cake\n",
      "Price:  100\n",
      "Billing Amount:  500\n"
     ]
    }
   ],
   "source": [
    "ui_prod = str(input(\"Enter the product ID: \"))\n",
    "ui_quant = int(input(\"Enter quantity: \"))\n",
    "\n",
    "print(\"Product: \",records[ui_prod]['name'])\n",
    "print(\"Price: \",records[ui_prod]['pr'])\n",
    "print(\"Billing Amount: \", records[ui_prod]['pr']*ui_quant)\n",
    "\n",
    "records[ui_prod]['qn'] = records[ui_prod]['qn'] - ui_quant"
   ]
  },
  {
   "cell_type": "code",
   "execution_count": 41,
   "id": "71837eb1",
   "metadata": {},
   "outputs": [
    {
     "name": "stdout",
     "output_type": "stream",
     "text": [
      "Enter the product ID: 1023\n",
      "Enter quantity: 6\n",
      "Product:  Tomato ketchup\n",
      "Price:  12\n",
      "Billing Amount:  72\n"
     ]
    }
   ],
   "source": [
    "ui_prod = str(input(\"Enter the product ID: \"))\n",
    "ui_quant = int(input(\"Enter quantity: \"))\n",
    "\n",
    "print(\"Product: \",records[ui_prod]['name'])\n",
    "print(\"Price: \",records[ui_prod]['pr'])\n",
    "print(\"Billing Amount: \", records[ui_prod]['pr']*ui_quant)\n",
    "\n",
    "records[ui_prod]['qn'] = records[ui_prod]['qn'] - ui_quant"
   ]
  },
  {
   "cell_type": "code",
   "execution_count": 42,
   "id": "9bfcbee2",
   "metadata": {},
   "outputs": [
    {
     "name": "stdout",
     "output_type": "stream",
     "text": [
      "Enter the product ID: 1011\n",
      "Enter quantity: 12\n",
      "Product:  Shampoo\n",
      "Price:  3\n",
      "Billing Amount:  36\n"
     ]
    }
   ],
   "source": [
    "ui_prod = str(input(\"Enter the product ID: \"))\n",
    "ui_quant = int(input(\"Enter quantity: \"))\n",
    "\n",
    "print(\"Product: \",records[ui_prod]['name'])\n",
    "print(\"Price: \",records[ui_prod]['pr'])\n",
    "print(\"Billing Amount: \", records[ui_prod]['pr']*ui_quant)\n",
    "\n",
    "records[ui_prod]['qn'] = records[ui_prod]['qn'] - ui_quant"
   ]
  },
  {
   "cell_type": "code",
   "execution_count": 43,
   "id": "f10cbd60",
   "metadata": {},
   "outputs": [
    {
     "name": "stdout",
     "output_type": "stream",
     "text": [
      "Enter the product ID: 1013\n",
      "Enter quantity: 3\n",
      "Product:  Surf\n",
      "Price:  5\n",
      "Billing Amount:  15\n"
     ]
    }
   ],
   "source": [
    "ui_prod = str(input(\"Enter the product ID: \"))\n",
    "ui_quant = int(input(\"Enter quantity: \"))\n",
    "\n",
    "print(\"Product: \",records[ui_prod]['name'])\n",
    "print(\"Price: \",records[ui_prod]['pr'])\n",
    "print(\"Billing Amount: \", records[ui_prod]['pr']*ui_quant)\n",
    "\n",
    "records[ui_prod]['qn'] = records[ui_prod]['qn'] - ui_quant"
   ]
  },
  {
   "cell_type": "code",
   "execution_count": 44,
   "id": "26010c3e",
   "metadata": {},
   "outputs": [
    {
     "name": "stdout",
     "output_type": "stream",
     "text": [
      "Enter the product ID: 1027\n",
      "Enter quantity: 2\n",
      "Product:  Notebook\n",
      "Price:  45\n",
      "Billing Amount:  90\n"
     ]
    }
   ],
   "source": [
    "ui_prod = str(input(\"Enter the product ID: \"))\n",
    "ui_quant = int(input(\"Enter quantity: \"))\n",
    "\n",
    "print(\"Product: \",records[ui_prod]['name'])\n",
    "print(\"Price: \",records[ui_prod]['pr'])\n",
    "print(\"Billing Amount: \", records[ui_prod]['pr']*ui_quant)\n",
    "\n",
    "records[ui_prod]['qn'] = records[ui_prod]['qn'] - ui_quant"
   ]
  },
  {
   "cell_type": "code",
   "execution_count": 45,
   "id": "0cbb9d59",
   "metadata": {},
   "outputs": [
    {
     "name": "stdout",
     "output_type": "stream",
     "text": [
      "Enter the product ID: 1017\n",
      "Enter quantity: 1\n",
      "Product:  Green Tea\n",
      "Price:  330\n",
      "Billing Amount:  330\n"
     ]
    }
   ],
   "source": [
    "ui_prod = str(input(\"Enter the product ID: \"))\n",
    "ui_quant = int(input(\"Enter quantity: \"))\n",
    "\n",
    "print(\"Product: \",records[ui_prod]['name'])\n",
    "print(\"Price: \",records[ui_prod]['pr'])\n",
    "print(\"Billing Amount: \", records[ui_prod]['pr']*ui_quant)\n",
    "\n",
    "records[ui_prod]['qn'] = records[ui_prod]['qn'] - ui_quant"
   ]
  },
  {
   "cell_type": "code",
   "execution_count": 46,
   "id": "993e975e",
   "metadata": {},
   "outputs": [],
   "source": [
    "updated_records = records"
   ]
  },
  {
   "cell_type": "code",
   "execution_count": 47,
   "id": "81b26e3b",
   "metadata": {},
   "outputs": [
    {
     "data": {
      "text/plain": [
       "{'1001': {'name': 'Choco Cake', 'pr': 100, 'qn': 29},\n",
       " '1002': {'name': 'Milk Cake', 'pr': 800, 'qn': 100},\n",
       " '1003': {'name': 'Drink', 'pr': 85, 'qn': 200},\n",
       " '1004': {'name': 'Candy', 'pr': 5, 'qn': 1000},\n",
       " '1005': {'name': 'Pen', 'pr': 10, 'qn': 300},\n",
       " '1006': {'name': 'Pencil', 'pr': 15, 'qn': 500},\n",
       " '1007': {'name': 'Soap', 'pr': 45, 'qn': 295},\n",
       " '1008': {'name': 'Maggie', 'pr': 12, 'qn': 600},\n",
       " '1009': {'name': 'Biscuits', 'pr': 20, 'qn': 740},\n",
       " '1010': {'name': 'Eraser', 'pr': 5, 'qn': 400},\n",
       " '1011': {'name': 'Shampoo', 'pr': 3, 'qn': 688},\n",
       " '1012': {'name': 'Lolipop', 'pr': 2, 'qn': 800},\n",
       " '1013': {'name': 'Surf', 'pr': 5, 'qn': 597},\n",
       " '1014': {'name': 'Key board', 'pr': 2000, 'qn': 30},\n",
       " '1015': {'name': 'Earbuds', 'pr': 1500, 'qn': 49},\n",
       " '1016': {'name': 'Headset', 'pr': 1799, 'qn': 25},\n",
       " '1017': {'name': 'Green Tea', 'pr': 330, 'qn': 39},\n",
       " '1018': {'name': 'Hair oil', 'pr': 55, 'qn': 50},\n",
       " '1019': {'name': 'Brush', 'pr': 20, 'qn': 595},\n",
       " '1020': {'name': 'Face wash', 'pr': 70, 'qn': 147},\n",
       " '1021': {'name': 'Room spray', 'pr': 120, 'qn': 250},\n",
       " '1022': {'name': 'Jam', 'pr': 30, 'qn': 500},\n",
       " '1023': {'name': 'Tomato ketchup', 'pr': 12, 'qn': 544},\n",
       " '1024': {'name': 'Rice', 'pr': 110, 'qn': 400},\n",
       " '1025': {'name': 'Boost', 'pr': 5, 'qn': 975},\n",
       " '1026': {'name': 'BRU', 'pr': 5, 'qn': 850},\n",
       " '1027': {'name': 'Notebook', 'pr': 45, 'qn': 198},\n",
       " '1028': {'name': 'Mouse', 'pr': 1500, 'qn': 25},\n",
       " '1029': {'name': 'Case', 'pr': 470, 'qn': 50},\n",
       " '1030': {'name': 'Scale', 'pr': 10, 'qn': 498}}"
      ]
     },
     "execution_count": 47,
     "metadata": {},
     "output_type": "execute_result"
    }
   ],
   "source": [
    "updated_records"
   ]
  },
  {
   "cell_type": "code",
   "execution_count": 48,
   "id": "042237ab",
   "metadata": {},
   "outputs": [],
   "source": [
    "js = json.dumps(records)\n",
    "\n",
    "fd = open(\"record.json\",\"w\")\n",
    "fd.write(js)\n",
    "fd.close()"
   ]
  },
  {
   "cell_type": "code",
   "execution_count": 49,
   "id": "5cab54c4",
   "metadata": {},
   "outputs": [
    {
     "data": {
      "text/plain": [
       "'{\"1001\": {\"name\": \"Choco Cake\", \"pr\": 100, \"qn\": 29}, \"1002\": {\"name\": \"Milk Cake\", \"pr\": 800, \"qn\": 100}, \"1003\": {\"name\": \"Drink\", \"pr\": 85, \"qn\": 200}, \"1004\": {\"name\": \"Candy\", \"pr\": 5, \"qn\": 1000}, \"1005\": {\"name\": \"Pen\", \"pr\": 10, \"qn\": 300}, \"1006\": {\"name\": \"Pencil\", \"pr\": 15, \"qn\": 500}, \"1007\": {\"name\": \"Soap\", \"pr\": 45, \"qn\": 295}, \"1008\": {\"name\": \"Maggie\", \"pr\": 12, \"qn\": 600}, \"1009\": {\"name\": \"Biscuits\", \"pr\": 20, \"qn\": 740}, \"1010\": {\"name\": \"Eraser\", \"pr\": 5, \"qn\": 400}, \"1011\": {\"name\": \"Shampoo\", \"pr\": 3, \"qn\": 688}, \"1012\": {\"name\": \"Lolipop\", \"pr\": 2, \"qn\": 800}, \"1013\": {\"name\": \"Surf\", \"pr\": 5, \"qn\": 597}, \"1014\": {\"name\": \"Key board\", \"pr\": 2000, \"qn\": 30}, \"1015\": {\"name\": \"Earbuds\", \"pr\": 1500, \"qn\": 49}, \"1016\": {\"name\": \"Headset\", \"pr\": 1799, \"qn\": 25}, \"1017\": {\"name\": \"Green Tea\", \"pr\": 330, \"qn\": 39}, \"1018\": {\"name\": \"Hair oil\", \"pr\": 55, \"qn\": 50}, \"1019\": {\"name\": \"Brush\", \"pr\": 20, \"qn\": 595}, \"1020\": {\"name\": \"Face wash\", \"pr\": 70, \"qn\": 147}, \"1021\": {\"name\": \"Room spray\", \"pr\": 120, \"qn\": 250}, \"1022\": {\"name\": \"Jam\", \"pr\": 30, \"qn\": 500}, \"1023\": {\"name\": \"Tomato ketchup\", \"pr\": 12, \"qn\": 544}, \"1024\": {\"name\": \"Rice\", \"pr\": 110, \"qn\": 400}, \"1025\": {\"name\": \"Boost\", \"pr\": 5, \"qn\": 975}, \"1026\": {\"name\": \"BRU\", \"pr\": 5, \"qn\": 850}, \"1027\": {\"name\": \"Notebook\", \"pr\": 45, \"qn\": 198}, \"1028\": {\"name\": \"Mouse\", \"pr\": 1500, \"qn\": 25}, \"1029\": {\"name\": \"Case\", \"pr\": 470, \"qn\": 50}, \"1030\": {\"name\": \"Scale\", \"pr\": 10, \"qn\": 498}}'"
      ]
     },
     "execution_count": 49,
     "metadata": {},
     "output_type": "execute_result"
    }
   ],
   "source": [
    "js"
   ]
  },
  {
   "cell_type": "code",
   "execution_count": 53,
   "id": "175f96dc",
   "metadata": {},
   "outputs": [],
   "source": [
    "fd = open(\"sales.json\",\"w\")\n",
    "fd.write(js)\n",
    "fd.close()"
   ]
  },
  {
   "cell_type": "code",
   "execution_count": 54,
   "id": "e3f12b97",
   "metadata": {},
   "outputs": [
    {
     "data": {
      "text/plain": [
       "'{\"1001\": {\"name\": \"Choco Cake\", \"pr\": 100, \"qn\": 29}, \"1002\": {\"name\": \"Milk Cake\", \"pr\": 800, \"qn\": 100}, \"1003\": {\"name\": \"Drink\", \"pr\": 85, \"qn\": 200}, \"1004\": {\"name\": \"Candy\", \"pr\": 5, \"qn\": 1000}, \"1005\": {\"name\": \"Pen\", \"pr\": 10, \"qn\": 300}, \"1006\": {\"name\": \"Pencil\", \"pr\": 15, \"qn\": 500}, \"1007\": {\"name\": \"Soap\", \"pr\": 45, \"qn\": 295}, \"1008\": {\"name\": \"Maggie\", \"pr\": 12, \"qn\": 600}, \"1009\": {\"name\": \"Biscuits\", \"pr\": 20, \"qn\": 740}, \"1010\": {\"name\": \"Eraser\", \"pr\": 5, \"qn\": 400}, \"1011\": {\"name\": \"Shampoo\", \"pr\": 3, \"qn\": 688}, \"1012\": {\"name\": \"Lolipop\", \"pr\": 2, \"qn\": 800}, \"1013\": {\"name\": \"Surf\", \"pr\": 5, \"qn\": 597}, \"1014\": {\"name\": \"Key board\", \"pr\": 2000, \"qn\": 30}, \"1015\": {\"name\": \"Earbuds\", \"pr\": 1500, \"qn\": 49}, \"1016\": {\"name\": \"Headset\", \"pr\": 1799, \"qn\": 25}, \"1017\": {\"name\": \"Green Tea\", \"pr\": 330, \"qn\": 39}, \"1018\": {\"name\": \"Hair oil\", \"pr\": 55, \"qn\": 50}, \"1019\": {\"name\": \"Brush\", \"pr\": 20, \"qn\": 595}, \"1020\": {\"name\": \"Face wash\", \"pr\": 70, \"qn\": 147}, \"1021\": {\"name\": \"Room spray\", \"pr\": 120, \"qn\": 250}, \"1022\": {\"name\": \"Jam\", \"pr\": 30, \"qn\": 500}, \"1023\": {\"name\": \"Tomato ketchup\", \"pr\": 12, \"qn\": 544}, \"1024\": {\"name\": \"Rice\", \"pr\": 110, \"qn\": 400}, \"1025\": {\"name\": \"Boost\", \"pr\": 5, \"qn\": 975}, \"1026\": {\"name\": \"BRU\", \"pr\": 5, \"qn\": 850}, \"1027\": {\"name\": \"Notebook\", \"pr\": 45, \"qn\": 198}, \"1028\": {\"name\": \"Mouse\", \"pr\": 1500, \"qn\": 25}, \"1029\": {\"name\": \"Case\", \"pr\": 470, \"qn\": 50}, \"1030\": {\"name\": \"Scale\", \"pr\": 10, \"qn\": 498}}'"
      ]
     },
     "execution_count": 54,
     "metadata": {},
     "output_type": "execute_result"
    }
   ],
   "source": [
    "js"
   ]
  },
  {
   "cell_type": "markdown",
   "id": "c4ccfd75",
   "metadata": {},
   "source": [
    "# Bill"
   ]
  },
  {
   "cell_type": "code",
   "execution_count": 35,
   "id": "eccdfdf6",
   "metadata": {},
   "outputs": [
    {
     "name": "stdout",
     "output_type": "stream",
     "text": [
      "Enter the product ID: 1020\n",
      "Enter quantity: 3\n",
      "Product:  Face wash\n",
      "Price:  70\n",
      "*********************\n",
      "Billing Amount:  210\n",
      "*********************\n",
      "----Thank You------\n",
      "---Visit Again---\n"
     ]
    }
   ],
   "source": [
    "ui_prod = str(input(\"Enter the product ID: \"))\n",
    "ui_quant = int(input(\"Enter quantity: \"))\n",
    "\n",
    "print(\"Product: \",records[ui_prod]['name'])\n",
    "print(\"Price: \",records[ui_prod]['pr'])\n",
    "\n",
    "print('*********************')\n",
    "print(\"Billing Amount: \", records[ui_prod]['pr']*ui_quant)\n",
    "print('*********************')\n",
    "print('----Thank You------')\n",
    "print('---Visit Again---')\n",
    "\n",
    "records[ui_prod]['qn'] = records[ui_prod]['qn'] - ui_quant"
   ]
  }
 ],
 "metadata": {
  "kernelspec": {
   "display_name": "Python 3",
   "language": "python",
   "name": "python3"
  },
  "language_info": {
   "codemirror_mode": {
    "name": "ipython",
    "version": 3
   },
   "file_extension": ".py",
   "mimetype": "text/x-python",
   "name": "python",
   "nbconvert_exporter": "python",
   "pygments_lexer": "ipython3",
   "version": "3.8.8"
  }
 },
 "nbformat": 4,
 "nbformat_minor": 5
}
