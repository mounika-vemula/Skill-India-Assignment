{
 "cells": [
  {
   "cell_type": "code",
   "execution_count": 1,
   "id": "233ac726",
   "metadata": {},
   "outputs": [],
   "source": [
    "import json"
   ]
  },
  {
   "cell_type": "code",
   "execution_count": 4,
   "id": "9b5a1c1a",
   "metadata": {},
   "outputs": [],
   "source": [
    "fd = open(\"record.json\",\"r\")\n",
    "r = fd.read()\n",
    "fd.close()\n",
    "\n",
    "record = json.loads(r)"
   ]
  },
  {
   "cell_type": "code",
   "execution_count": 5,
   "id": "518ead1c",
   "metadata": {},
   "outputs": [
    {
     "data": {
      "text/plain": [
       "{'1001': {'name': 'Choco Cake', 'pr': 100, 'qn': 34},\n",
       " '1002': {'name': 'Milk Cake', 'pr': 800, 'qn': 100},\n",
       " '1003': {'name': 'Drink', 'pr': 85, 'qn': 200},\n",
       " '1004': {'name': 'Candy', 'pr': 5, 'qn': 1000},\n",
       " '1005': {'name': 'Pen', 'pr': 10, 'qn': 300},\n",
       " '1006': {'name': 'Pencil', 'pr': 15, 'qn': 500},\n",
       " '1007': {'name': 'Soap', 'pr': 45, 'qn': 295},\n",
       " '1008': {'name': 'Maggie', 'pr': 12, 'qn': 600},\n",
       " '1009': {'name': 'Biscuits', 'pr': 20, 'qn': 750}}"
      ]
     },
     "execution_count": 5,
     "metadata": {},
     "output_type": "execute_result"
    }
   ],
   "source": [
    "record"
   ]
  },
  {
   "cell_type": "code",
   "execution_count": 6,
   "id": "981a84ed",
   "metadata": {},
   "outputs": [
    {
     "name": "stdout",
     "output_type": "stream",
     "text": [
      "Enter the product ID: 1010\n",
      "Enter product name: Eraser\n",
      "Enter price: 5\n",
      "Enter quantity: 400\n"
     ]
    }
   ],
   "source": [
    "prod_id = str(input(\"Enter the product ID: \"))\n",
    "name = str(input(\"Enter product name: \"))\n",
    "pr = int(input(\"Enter price: \"))\n",
    "qn = int(input(\"Enter quantity: \"))\n",
    "\n",
    "record[prod_id] = {'name': name, 'pr': pr, 'qn': qn}"
   ]
  },
  {
   "cell_type": "code",
   "execution_count": 7,
   "id": "88d840a7",
   "metadata": {},
   "outputs": [
    {
     "data": {
      "text/plain": [
       "{'1001': {'name': 'Choco Cake', 'pr': 100, 'qn': 34},\n",
       " '1002': {'name': 'Milk Cake', 'pr': 800, 'qn': 100},\n",
       " '1003': {'name': 'Drink', 'pr': 85, 'qn': 200},\n",
       " '1004': {'name': 'Candy', 'pr': 5, 'qn': 1000},\n",
       " '1005': {'name': 'Pen', 'pr': 10, 'qn': 300},\n",
       " '1006': {'name': 'Pencil', 'pr': 15, 'qn': 500},\n",
       " '1007': {'name': 'Soap', 'pr': 45, 'qn': 295},\n",
       " '1008': {'name': 'Maggie', 'pr': 12, 'qn': 600},\n",
       " '1009': {'name': 'Biscuits', 'pr': 20, 'qn': 750},\n",
       " '1010': {'name': 'Eraser', 'pr': 5, 'qn': 400}}"
      ]
     },
     "execution_count": 7,
     "metadata": {},
     "output_type": "execute_result"
    }
   ],
   "source": [
    "record"
   ]
  },
  {
   "cell_type": "code",
   "execution_count": 46,
   "id": "b401ad75",
   "metadata": {},
   "outputs": [
    {
     "name": "stdout",
     "output_type": "stream",
     "text": [
      "Enter the product ID: 1030\n",
      "Enter product name: Scale\n",
      "Enter price: 10\n",
      "Enter quantity: 500\n"
     ]
    }
   ],
   "source": [
    "prod_id = str(input(\"Enter the product ID: \"))\n",
    "name = str(input(\"Enter product name: \"))\n",
    "pr = int(input(\"Enter price: \"))\n",
    "qn = int(input(\"Enter quantity: \"))\n",
    "\n",
    "record[prod_id] = {'name': name, 'pr': pr, 'qn': qn}\n",
    "\n",
    "js = json.dumps(record)\n",
    "\n",
    "fd = open(\"record.json\",\"w\")\n",
    "fd.write(js)\n",
    "fd.close()"
   ]
  },
  {
   "cell_type": "code",
   "execution_count": 47,
   "id": "b47f07cf",
   "metadata": {},
   "outputs": [
    {
     "data": {
      "text/plain": [
       "{'1001': {'name': 'Choco Cake', 'pr': 100, 'qn': 34},\n",
       " '1002': {'name': 'Milk Cake', 'pr': 800, 'qn': 100},\n",
       " '1003': {'name': 'Drink', 'pr': 85, 'qn': 200},\n",
       " '1004': {'name': 'Candy', 'pr': 5, 'qn': 1000},\n",
       " '1005': {'name': 'Pen', 'pr': 10, 'qn': 300},\n",
       " '1006': {'name': 'Pencil', 'pr': 15, 'qn': 500},\n",
       " '1007': {'name': 'Soap', 'pr': 45, 'qn': 295},\n",
       " '1008': {'name': 'Maggie', 'pr': 12, 'qn': 600},\n",
       " '1009': {'name': 'Biscuits', 'pr': 20, 'qn': 750},\n",
       " '1010': {'name': 'Eraser', 'pr': 5, 'qn': 400},\n",
       " '1011': {'name': 'Shampoo', 'pr': 3, 'qn': 700},\n",
       " '1012': {'name': 'Lolipop', 'pr': 2, 'qn': 800},\n",
       " '1013': {'name': 'Surf', 'pr': 5, 'qn': 600},\n",
       " '1014': {'name': 'Key board', 'pr': 2000, 'qn': 30},\n",
       " '1015': {'name': 'Earbuds', 'pr': 1500, 'qn': 50},\n",
       " '1016': {'name': 'Headset', 'pr': 1799, 'qn': 25},\n",
       " '1017': {'name': 'Green Tea', 'pr': 330, 'qn': 40},\n",
       " '1018': {'name': 'Hair oil', 'pr': 55, 'qn': 50},\n",
       " '1019': {'name': 'Brush', 'pr': 20, 'qn': 600},\n",
       " '1020': {'name': 'Face wash', 'pr': 70, 'qn': 150},\n",
       " '1021': {'name': 'Room spray', 'pr': 120, 'qn': 250},\n",
       " '1022': {'name': 'Jam', 'pr': 30, 'qn': 500},\n",
       " '1023': {'name': 'Tomato ketchup', 'pr': 12, 'qn': 550},\n",
       " '1024': {'name': 'Rice', 'pr': 110, 'qn': 400},\n",
       " '1025': {'name': 'Boost', 'pr': 5, 'qn': 1000},\n",
       " '1026': {'name': 'BRU', 'pr': 5, 'qn': 850},\n",
       " '1027': {'name': 'Notebook', 'pr': 45, 'qn': 200},\n",
       " '1028': {'name': 'Mouse', 'pr': 1500, 'qn': 25},\n",
       " '1029': {'name': 'Case', 'pr': 470, 'qn': 50},\n",
       " '1030': {'name': 'Scale', 'pr': 10, 'qn': 500}}"
      ]
     },
     "execution_count": 47,
     "metadata": {},
     "output_type": "execute_result"
    }
   ],
   "source": [
    "record"
   ]
  }
 ],
 "metadata": {
  "kernelspec": {
   "display_name": "Python 3",
   "language": "python",
   "name": "python3"
  },
  "language_info": {
   "codemirror_mode": {
    "name": "ipython",
    "version": 3
   },
   "file_extension": ".py",
   "mimetype": "text/x-python",
   "name": "python",
   "nbconvert_exporter": "python",
   "pygments_lexer": "ipython3",
   "version": "3.8.8"
  }
 },
 "nbformat": 4,
 "nbformat_minor": 5
}
